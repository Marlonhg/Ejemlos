{
 "cells": [
  {
   "cell_type": "code",
   "execution_count": 1,
   "metadata": {},
   "outputs": [
    {
     "name": "stdout",
     "output_type": "stream",
     "text": [
      "Ingrese el numero para n: 0\n",
      "Ingrese el numero para m: 3\n",
      "6\n"
     ]
    }
   ],
   "source": [
    "\n",
    "n = int(input(\"Ingrese el numero para n: \"))\n",
    "m = int(input(\"Ingrese el numero para m: \"))\n",
    "m=m+1\n",
    "suma = 0\n",
    "for i in range(n,m):\n",
    "    suma += i\n",
    "print (suma)"
   ]
  }
 ],
 "metadata": {
  "kernelspec": {
   "display_name": "Python 3",
   "language": "python",
   "name": "python3"
  },
  "language_info": {
   "codemirror_mode": {
    "name": "ipython",
    "version": 3
   },
   "file_extension": ".py",
   "mimetype": "text/x-python",
   "name": "python",
   "nbconvert_exporter": "python",
   "pygments_lexer": "ipython3",
   "version": "3.6.1"
  }
 },
 "nbformat": 4,
 "nbformat_minor": 2
}
